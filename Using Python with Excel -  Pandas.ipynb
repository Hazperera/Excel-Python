{
 "cells": [
  {
   "cell_type": "markdown",
   "metadata": {},
   "source": [
    "# 1. Python with Pandas\n",
    "\n",
    "## (i) Loading and saving data with pandas"
   ]
  },
  {
   "cell_type": "code",
   "execution_count": 1,
   "metadata": {},
   "outputs": [],
   "source": [
    "import pandas as pd\n",
    "import numpy as np"
   ]
  },
  {
   "cell_type": "markdown",
   "metadata": {},
   "source": [
    "workbook module from open py excel-  save to the excel sheet"
   ]
  },
  {
   "cell_type": "code",
   "execution_count": 2,
   "metadata": {},
   "outputs": [],
   "source": [
    "from openpyxl.workbook import Workbook"
   ]
  },
  {
   "cell_type": "code",
   "execution_count": 3,
   "metadata": {},
   "outputs": [],
   "source": [
    "df_excel = pd.read_excel('regions.xlsx')"
   ]
  },
  {
   "cell_type": "code",
   "execution_count": 4,
   "metadata": {},
   "outputs": [],
   "source": [
    "df_csv = pd.read_csv('Names.csv', header = None)\n",
    "# first row of data is acting as a header for the rest of the file -  to prevent this- specify that there is no header present in the CSV file"
   ]
  },
  {
   "cell_type": "code",
   "execution_count": 5,
   "metadata": {},
   "outputs": [],
   "source": [
    "df_txt = pd.read_csv('data.txt', delimiter='\\t')\n",
    "# add a delimiter to specify that we're looking to separate by tabs"
   ]
  },
  {
   "cell_type": "code",
   "execution_count": 6,
   "metadata": {},
   "outputs": [],
   "source": [
    "# print(df_excel)\n",
    "# print(df_txt)\n",
    "# print(df_csv)"
   ]
  },
  {
   "cell_type": "code",
   "execution_count": 7,
   "metadata": {},
   "outputs": [],
   "source": [
    "df_csv.columns = ['First', 'Last', 'Address', 'City', 'State', 'Area Code', 'Income']"
   ]
  },
  {
   "cell_type": "code",
   "execution_count": 8,
   "metadata": {},
   "outputs": [],
   "source": [
    "df_csv.to_excel('modified.xlsx')"
   ]
  },
  {
   "cell_type": "markdown",
   "metadata": {},
   "source": [
    "## (ii) Viewing and inspecting data with pandas"
   ]
  },
  {
   "cell_type": "code",
   "execution_count": 9,
   "metadata": {},
   "outputs": [
    {
     "name": "stdout",
     "output_type": "stream",
     "text": [
      "Index(['First', 'Last', 'Address', 'City', 'State', 'Area Code', 'Other'], dtype='object')\n"
     ]
    }
   ],
   "source": [
    "# we need to have some data stored into our data frame\n",
    "\n",
    "df = pd.read_csv('Names.csv', header=None)\n",
    "df.columns = ['First', 'Last', 'Address', 'City', 'State', 'Area Code', 'Other']\n",
    "print(df.columns)"
   ]
  },
  {
   "cell_type": "markdown",
   "metadata": {},
   "source": [
    "#### Accessing single column\n"
   ]
  },
  {
   "cell_type": "code",
   "execution_count": 10,
   "metadata": {
    "scrolled": true
   },
   "outputs": [
    {
     "name": "stdout",
     "output_type": "stream",
     "text": [
      "0         Doe\n",
      "1    McGinnis\n",
      "2      Repici\n",
      "3       Tyler\n",
      "4    Blankman\n",
      "5         Jet\n",
      "Name: Last, dtype: object\n"
     ]
    }
   ],
   "source": [
    "print(df['Last'])"
   ]
  },
  {
   "cell_type": "markdown",
   "metadata": {},
   "source": [
    "#### Accessing multiple columns\n"
   ]
  },
  {
   "cell_type": "code",
   "execution_count": 11,
   "metadata": {
    "scrolled": false
   },
   "outputs": [
    {
     "name": "stdout",
     "output_type": "stream",
     "text": [
      "  State  Area Code\n",
      "0    NJ       8074\n",
      "1    PA       9119\n",
      "2    NJ       8075\n",
      "3    SD      91234\n",
      "4    SD        298\n",
      "5    CO        123\n"
     ]
    }
   ],
   "source": [
    "#double brackets [[   ]] - becoz the index of the data frame is presented as a list of columns\n",
    "\n",
    "print(df[['State', 'Area Code']])"
   ]
  },
  {
   "cell_type": "markdown",
   "metadata": {},
   "source": [
    "#### Slicing \n",
    "First Name column and  only want the first three lines"
   ]
  },
  {
   "cell_type": "code",
   "execution_count": 12,
   "metadata": {
    "scrolled": true
   },
   "outputs": [
    {
     "name": "stdout",
     "output_type": "stream",
     "text": [
      "0             John\n",
      "1             Jack\n",
      "2    John \"Da Man\"\n",
      "Name: First, dtype: object\n"
     ]
    }
   ],
   "source": [
    "print(df['First'][0:3])"
   ]
  },
  {
   "cell_type": "markdown",
   "metadata": {},
   "source": [
    "### pandas.DataFrame.iloc\n",
    "- integer-location based indexing for selection by position"
   ]
  },
  {
   "cell_type": "code",
   "execution_count": 13,
   "metadata": {},
   "outputs": [
    {
     "name": "stdout",
     "output_type": "stream",
     "text": [
      "                 First      Last                           Address  \\\n",
      "0                 John       Doe                 120 jefferson st.   \n",
      "1                 Jack  McGinnis                      220 hobo Av.   \n",
      "2        John \"Da Man\"    Repici                 120 Jefferson St.   \n",
      "3              Stephen     Tyler  7452 Terrace \"At the Plaza\" road   \n",
      "4                  NaN  Blankman                               NaN   \n",
      "5  Joan \"Danger\", Anne       Jet               9th, at Terrace plc   \n",
      "\n",
      "          City State  Area Code   Other  \n",
      "0    Riverside    NJ       8074   45000  \n",
      "1        Phila    PA       9119   18000  \n",
      "2    Riverside    NJ       8075  120000  \n",
      "3     SomeTown    SD      91234   90000  \n",
      "4     SomeTown    SD        298   30000  \n",
      "5  Desert City    CO        123   68000  \n"
     ]
    }
   ],
   "source": [
    "# choose what you want to view from this entire dataframe\n",
    "print(df)"
   ]
  },
  {
   "cell_type": "code",
   "execution_count": 14,
   "metadata": {},
   "outputs": [
    {
     "name": "stdout",
     "output_type": "stream",
     "text": [
      "First                Jack\n",
      "Last             McGinnis\n",
      "Address      220 hobo Av.\n",
      "City                Phila\n",
      "State                  PA\n",
      "Area Code            9119\n",
      "Other               18000\n",
      "Name: 1, dtype: object\n"
     ]
    }
   ],
   "source": [
    "# choosing index 1 \n",
    "\n",
    "print(df.iloc[1])"
   ]
  },
  {
   "cell_type": "code",
   "execution_count": 15,
   "metadata": {},
   "outputs": [
    {
     "name": "stdout",
     "output_type": "stream",
     "text": [
      "Repici\n"
     ]
    }
   ],
   "source": [
    "# choosing one single element \"Repici\" - which is located in [2,1]\n",
    "\n",
    "print(df.iloc[2,1])"
   ]
  },
  {
   "cell_type": "markdown",
   "metadata": {},
   "source": [
    "##### Checking certain rows/columns or specific location of an Excel file consistently\n",
    "\n",
    "- First Name, Last Name and State -  extract from  data frame and save to an Excel document with  Save function"
   ]
  },
  {
   "cell_type": "code",
   "execution_count": 16,
   "metadata": {},
   "outputs": [],
   "source": [
    "wanted_value = df[['First', 'Last', 'State']]\n",
    "stored = wanted_value.to_excel('State_Location.xlsx', index = None)\n",
    "# check folder"
   ]
  },
  {
   "cell_type": "markdown",
   "metadata": {},
   "source": [
    "## (iii) Filter and Sort with Pandas"
   ]
  },
  {
   "cell_type": "markdown",
   "metadata": {},
   "source": [
    "### pandas.DataFrame.loc\n",
    "- Access a group of rows and columns by label(s) or a boolean array"
   ]
  },
  {
   "cell_type": "code",
   "execution_count": 17,
   "metadata": {},
   "outputs": [
    {
     "name": "stdout",
     "output_type": "stream",
     "text": [
      "           First    Last            Address       City State  Area Code  \\\n",
      "0           John     Doe  120 jefferson st.  Riverside    NJ       8074   \n",
      "2  John \"Da Man\"  Repici  120 Jefferson St.  Riverside    NJ       8075   \n",
      "\n",
      "    Other  \n",
      "0   45000  \n",
      "2  120000  \n"
     ]
    }
   ],
   "source": [
    "#  Riverside Residents\n",
    "\n",
    "print(df.loc[df['City']=='Riverside'])"
   ]
  },
  {
   "cell_type": "code",
   "execution_count": 18,
   "metadata": {},
   "outputs": [
    {
     "name": "stdout",
     "output_type": "stream",
     "text": [
      "  First Last            Address       City State  Area Code  Other\n",
      "0  John  Doe  120 jefferson st.  Riverside    NJ       8074  45000\n"
     ]
    }
   ],
   "source": [
    "# Riverside Residents with name John\n",
    "\n",
    "print (df.loc[(df['City'] == 'Riverside') & (df['First'] == 'John')])\n",
    "\n",
    "# pandas use & instead of and\n",
    "# John \"Da Man\" is not returned - pandas is not recognizing his first name to be John, but rather including his nickname in quotations. \n",
    "# clean data is a must"
   ]
  },
  {
   "cell_type": "markdown",
   "metadata": {},
   "source": [
    "##### lambda function\n",
    "\n",
    "lambda is an anonymous function - function that is defined without a name\n",
    "-  normal functions are defined using the def\n",
    "- anonymous functions are defined using the lambda \n",
    "\n",
    "syntax \n",
    "- lambda arguments: expression"
   ]
  },
  {
   "cell_type": "code",
   "execution_count": 19,
   "metadata": {
    "scrolled": true
   },
   "outputs": [
    {
     "name": "stdout",
     "output_type": "stream",
     "text": [
      "10\n"
     ]
    }
   ],
   "source": [
    "# Program to show the use of lambda functions\n",
    "double = lambda x: x * 2\n",
    "print(double(5))"
   ]
  },
  {
   "cell_type": "markdown",
   "metadata": {},
   "source": [
    "### pandas.DataFrame.apply\n",
    "\n",
    "- apply a function along an axis of the DataFrame\n"
   ]
  },
  {
   "cell_type": "code",
   "execution_count": 20,
   "metadata": {},
   "outputs": [
    {
     "name": "stdout",
     "output_type": "stream",
     "text": [
      "                 First      Last                           Address  \\\n",
      "0                 John       Doe                 120 jefferson st.   \n",
      "1                 Jack  McGinnis                      220 hobo Av.   \n",
      "2        John \"Da Man\"    Repici                 120 Jefferson St.   \n",
      "3              Stephen     Tyler  7452 Terrace \"At the Plaza\" road   \n",
      "4                  NaN  Blankman                               NaN   \n",
      "5  Joan \"Danger\", Anne       Jet               9th, at Terrace plc   \n",
      "\n",
      "          City State  Area Code  Income  Tax %  \n",
      "0    Riverside    NJ       8074   45000   0.20  \n",
      "1        Phila    PA       9119   18000   0.15  \n",
      "2    Riverside    NJ       8075  120000   0.25  \n",
      "3     SomeTown    SD      91234   90000   0.25  \n",
      "4     SomeTown    SD        298   30000   0.15  \n",
      "5  Desert City    CO        123   68000   0.20  \n"
     ]
    }
   ],
   "source": [
    "# tax percentage column - based on the income\n",
    "\n",
    "df_csv = pd.read_csv('Names.csv', header = None)\n",
    "df.columns = ['First', 'Last', 'Address', 'City', 'State', 'Area Code', 'Income']\n",
    "\n",
    "# tax % is related to income - apply and lambda is used for comparison of the two\n",
    "# lambda X as an element of the income column\n",
    "#after colon is a simple conditional statement\n",
    "\n",
    "df['Tax %'] = df ['Income'].apply(lambda x: .15 if 10000 < x < 40000 else .2 if 40000 < x < 80000 else .25)\n",
    "print(df)"
   ]
  },
  {
   "cell_type": "code",
   "execution_count": 21,
   "metadata": {
    "scrolled": true
   },
   "outputs": [
    {
     "name": "stdout",
     "output_type": "stream",
     "text": [
      "0     9000.0\n",
      "1     2700.0\n",
      "2    30000.0\n",
      "3    22500.0\n",
      "4     4500.0\n",
      "5    13600.0\n",
      "Name: Taxes Owed, dtype: float64\n"
     ]
    }
   ],
   "source": [
    "df['Taxes Owed'] = df['Income']* df['Tax %']\n",
    "print(df['Taxes Owed'])"
   ]
  },
  {
   "cell_type": "markdown",
   "metadata": {},
   "source": [
    "### pandas.DataFrame.drop\n",
    "- Remove rows or columns by specifying label names and corresponding axis, or by specifying directly index or column names\n",
    "\n"
   ]
  },
  {
   "cell_type": "code",
   "execution_count": 22,
   "metadata": {
    "scrolled": true
   },
   "outputs": [
    {
     "name": "stdout",
     "output_type": "stream",
     "text": [
      "       Last         City State  Income  Tax %  Taxes Owed\n",
      "0       Doe    Riverside    NJ   45000   0.20      9000.0\n",
      "1  McGinnis        Phila    PA   18000   0.15      2700.0\n",
      "2    Repici    Riverside    NJ  120000   0.25     30000.0\n",
      "3     Tyler     SomeTown    SD   90000   0.25     22500.0\n",
      "4  Blankman     SomeTown    SD   30000   0.15      4500.0\n",
      "5       Jet  Desert City    CO   68000   0.20     13600.0\n"
     ]
    }
   ],
   "source": [
    "# for convenience - remove  some columns for more space\n",
    "\n",
    "to_drop = ['Area Code', 'First', 'Address']\n",
    "df.drop(columns=to_drop, inplace=True)\n",
    "print(df)"
   ]
  },
  {
   "cell_type": "markdown",
   "metadata": {},
   "source": [
    "### pandas.DataFrame.loc\n",
    "\n",
    "- changing all values based on one column\n",
    "- if the income is below 60,000 -  change our false values in Test Col to true\n",
    "- extremely large data set can use this to find any condition and change it based on other values"
   ]
  },
  {
   "cell_type": "code",
   "execution_count": 23,
   "metadata": {},
   "outputs": [
    {
     "name": "stdout",
     "output_type": "stream",
     "text": [
      "       Last         City State  Income  Tax %  Taxes Owed  Test Col\n",
      "0       Doe    Riverside    NJ   45000   0.20      9000.0      True\n",
      "1  McGinnis        Phila    PA   18000   0.15      2700.0      True\n",
      "2    Repici    Riverside    NJ  120000   0.25     30000.0     False\n",
      "3     Tyler     SomeTown    SD   90000   0.25     22500.0     False\n",
      "4  Blankman     SomeTown    SD   30000   0.15      4500.0      True\n",
      "5       Jet  Desert City    CO   68000   0.20     13600.0     False\n"
     ]
    }
   ],
   "source": [
    "df['Test Col'] = False\n",
    "df.loc[df['Income'] < 60000, 'Test Col'] = True\n",
    "print(df)"
   ]
  },
  {
   "cell_type": "markdown",
   "metadata": {},
   "source": [
    "### pandas.DataFrame.groupby\n",
    "- some combination of splitting the object, applying a function, and combining the results. \n",
    "- can be used to group large amounts of data and compute operations on these groups"
   ]
  },
  {
   "cell_type": "code",
   "execution_count": 24,
   "metadata": {},
   "outputs": [
    {
     "name": "stdout",
     "output_type": "stream",
     "text": [
      "                Income     Tax %    Taxes Owed\n",
      "Test Col                                      \n",
      "False     92666.666667  0.233333  22033.333333\n",
      "True      31000.000000  0.166667   5400.000000\n"
     ]
    }
   ],
   "source": [
    "# remove unnecessary columns\n",
    "\n",
    "#  groups by the two unique values in the test column \"False\" and \"True\"\n",
    "# mean function simply takes the average of all the data\n",
    "# for all the columns that have false in the test column\n",
    "\n",
    "print(df.groupby(['Test Col']).mean())"
   ]
  },
  {
   "cell_type": "markdown",
   "metadata": {},
   "source": [
    "### pandas.DataFrame.sort_values\n",
    "- Sort by the values along either axis"
   ]
  },
  {
   "cell_type": "code",
   "execution_count": 25,
   "metadata": {},
   "outputs": [
    {
     "name": "stdout",
     "output_type": "stream",
     "text": [
      "                Income     Tax %    Taxes Owed\n",
      "Test Col                                      \n",
      "True      31000.000000  0.166667   5400.000000\n",
      "False     92666.666667  0.233333  22033.333333\n"
     ]
    }
   ],
   "source": [
    "print(df.groupby(['Test Col']).mean().sort_values('Income'))"
   ]
  },
  {
   "cell_type": "markdown",
   "metadata": {},
   "source": [
    "## (iv) Cleaning data with pandas\n",
    "\n"
   ]
  },
  {
   "cell_type": "code",
   "execution_count": 26,
   "metadata": {},
   "outputs": [],
   "source": [
    "df = pd.read_csv('Names.csv', header = None)\n",
    "df.columns = ['First', 'Last', 'Address', 'City', 'State', 'Area Code', 'Income']"
   ]
  },
  {
   "cell_type": "markdown",
   "metadata": {},
   "source": [
    "### pandas.DataFrame.set_index\n",
    "- Set the DataFrame index using existing columns\n",
    "- indexing by area codes -  using an identifier that is unique for each object - search is easy"
   ]
  },
  {
   "cell_type": "code",
   "execution_count": 27,
   "metadata": {},
   "outputs": [
    {
     "name": "stdout",
     "output_type": "stream",
     "text": [
      "First          John\n",
      "Last            Doe\n",
      "City      Riverside\n",
      "State            NJ\n",
      "Income        45000\n",
      "Name: 8074, dtype: object\n"
     ]
    }
   ],
   "source": [
    "df.drop(columns='Address', inplace=True)\n",
    "\n",
    "df=df.set_index('Area Code')\n",
    "\n",
    "print(df.loc[8074])"
   ]
  },
  {
   "cell_type": "code",
   "execution_count": 28,
   "metadata": {
    "scrolled": false
   },
   "outputs": [
    {
     "name": "stdout",
     "output_type": "stream",
     "text": [
      "First          John\n",
      "Last            Doe\n",
      "City      Riverside\n",
      "State            NJ\n",
      "Income        45000\n",
      "Name: 8074, dtype: object\n"
     ]
    }
   ],
   "source": [
    "# same exact row - for iloc function also - index rows with the indexes\n",
    "\n",
    "print(df.iloc[0])"
   ]
  },
  {
   "cell_type": "markdown",
   "metadata": {},
   "source": [
    "#### slicing method\n"
   ]
  },
  {
   "cell_type": "code",
   "execution_count": 29,
   "metadata": {},
   "outputs": [
    {
     "name": "stdout",
     "output_type": "stream",
     "text": [
      "Area Code\n",
      "8074                    John\n",
      "9119                    Jack\n",
      "8075           John \"Da Man\"\n",
      "91234                Stephen\n",
      "298                      NaN\n",
      "123      Joan \"Danger\", Anne\n",
      "Name: First, dtype: object\n"
     ]
    }
   ],
   "source": [
    "#  location of index 8074 to the end of the row\n",
    "\n",
    "print(df.loc[8074:, 'First'])"
   ]
  },
  {
   "cell_type": "code",
   "execution_count": 30,
   "metadata": {},
   "outputs": [
    {
     "name": "stdout",
     "output_type": "stream",
     "text": [
      "                 0          1     2\n",
      "Area Code                          \n",
      "8074          John       None  None\n",
      "9119          Jack       None  None\n",
      "8075          John        \"Da  Man\"\n",
      "91234      Stephen       None  None\n",
      "298            NaN        NaN   NaN\n",
      "123           Joan  \"Danger\",  Anne\n"
     ]
    }
   ],
   "source": [
    "#  call each object to it's string value, and split \n",
    "# splits every word in the first column into it's own column\n",
    "\n",
    "print(df.First.str.split(expand=True))"
   ]
  },
  {
   "cell_type": "code",
   "execution_count": 31,
   "metadata": {
    "scrolled": true
   },
   "outputs": [
    {
     "name": "stdout",
     "output_type": "stream",
     "text": [
      "             First      Last         City State  Income\n",
      "Area Code                                              \n",
      "8074          John       Doe    Riverside    NJ   45000\n",
      "9119          Jack  McGinnis        Phila    PA   18000\n",
      "8075          John    Repici    Riverside    NJ  120000\n",
      "91234      Stephen     Tyler     SomeTown    SD   90000\n",
      "298            NaN  Blankman     SomeTown    SD   30000\n",
      "123           Joan       Jet  Desert City    CO   68000\n"
     ]
    }
   ],
   "source": [
    "#  data frame only uses the first column of the split as the first name\n",
    "\n",
    "df.First= df.First.str.split(expand=True)\n",
    "print(df)"
   ]
  },
  {
   "cell_type": "markdown",
   "metadata": {},
   "source": [
    "###  pandas.DataFrame.replace\n",
    "- Replace values given in to_replace with value\n",
    "- Values of the DataFrame are replaced with other values dynamically. \n",
    "- This differs from updating with .loc or .iloc, which require you to specify a location to update with some value"
   ]
  },
  {
   "cell_type": "markdown",
   "metadata": {},
   "source": [
    "A RegEx, or Regular Expression, is a sequence of characters that forms a search pattern"
   ]
  },
  {
   "cell_type": "code",
   "execution_count": 32,
   "metadata": {},
   "outputs": [
    {
     "name": "stdout",
     "output_type": "stream",
     "text": [
      "             First      Last         City State  Income\n",
      "Area Code                                              \n",
      "8074          John       Doe    Riverside    NJ   45000\n",
      "9119          Jack  McGinnis        Phila    PA   18000\n",
      "8075          John    Repici    Riverside    NJ  120000\n",
      "91234      Stephen     Tyler     SomeTown    SD   90000\n",
      "298            N/A  Blankman     SomeTown    SD   30000\n",
      "123           Joan       Jet  Desert City    CO   68000\n"
     ]
    }
   ],
   "source": [
    "# locate the nan value of numpy and replace it with a string that can be easily identified\n",
    "\n",
    "df= df.replace(np.NaN, 'N/A', regex=True)\n",
    "print(df)"
   ]
  },
  {
   "cell_type": "code",
   "execution_count": 33,
   "metadata": {},
   "outputs": [],
   "source": [
    "# save to excel\n",
    "to_excel=df.to_excel('modified1.xlsx')"
   ]
  }
 ],
 "metadata": {
  "kernelspec": {
   "display_name": "Python 3",
   "language": "python",
   "name": "python3"
  },
  "language_info": {
   "codemirror_mode": {
    "name": "ipython",
    "version": 3
   },
   "file_extension": ".py",
   "mimetype": "text/x-python",
   "name": "python",
   "nbconvert_exporter": "python",
   "pygments_lexer": "ipython3",
   "version": "3.7.6"
  }
 },
 "nbformat": 4,
 "nbformat_minor": 4
}
